{
 "cells": [
  {
   "cell_type": "code",
   "execution_count": 89,
   "metadata": {},
   "outputs": [],
   "source": [
    "from sklearn.datasets import load_files\n",
    "import numpy as np\n",
    "import matplotlib.pyplot as plt\n",
    "\n",
    "from PIL import Image\n",
    "from keras.utils import np_utils, img_to_array, load_img\n",
    "from keras.models import Sequential\n",
    "from keras.layers import Conv2D,MaxPooling2D\n",
    "from keras.layers import Activation, Dense, Flatten, Dropout, Reshape\n",
    "from keras.preprocessing.image import ImageDataGenerator\n",
    "from keras.callbacks import ModelCheckpoint\n",
    "from keras import backend as K\n",
    "from keras.models import load_model\n",
    "import h5py\n",
    "import tensorflow as tf\n",
    "import requests\n",
    "from io import BytesIO\n",
    "from keras.preprocessing import image\n",
    "import cv2"
   ]
  },
  {
   "cell_type": "code",
   "execution_count": 90,
   "metadata": {},
   "outputs": [
    {
     "data": {
      "text/plain": [
       "<keras.engine.sequential.Sequential at 0x1deadddea40>"
      ]
     },
     "execution_count": 90,
     "metadata": {},
     "output_type": "execute_result"
    }
   ],
   "source": [
    "# check saved model\n",
    "model = load_model('../fruit recognition/fruit_classifier_model_96.h5', compile=False)\n",
    "model.compile()\n",
    "model"
   ]
  },
  {
   "cell_type": "code",
   "execution_count": 92,
   "metadata": {},
   "outputs": [
    {
     "ename": "OSError",
     "evalue": "Unable to create file (unable to truncate a file which is already open)",
     "output_type": "error",
     "traceback": [
      "\u001b[1;31m---------------------------------------------------------------------------\u001b[0m",
      "\u001b[1;31mOSError\u001b[0m                                   Traceback (most recent call last)",
      "Cell \u001b[1;32mIn[92], line 47\u001b[0m\n\u001b[0;32m     45\u001b[0m        \u001b[39mdel\u001b[39;00m file[\u001b[39m'\u001b[39m\u001b[39mlabels\u001b[39m\u001b[39m'\u001b[39m]\n\u001b[0;32m     46\u001b[0m    file\u001b[39m.\u001b[39mcreate_dataset(\u001b[39m'\u001b[39m\u001b[39mlabels\u001b[39m\u001b[39m'\u001b[39m, data\u001b[39m=\u001b[39mfruit_labels_bytes)\n\u001b[1;32m---> 47\u001b[0m    model\u001b[39m.\u001b[39;49msave(\u001b[39m'\u001b[39;49m\u001b[39mfruit_classifier_model_96.h5\u001b[39;49m\u001b[39m'\u001b[39;49m)\n\u001b[0;32m     48\u001b[0m \u001b[39m# Załadowanie modelu\u001b[39;00m\n\u001b[0;32m     49\u001b[0m \u001b[39m#model = load_model('../fruit recognition/fruit_classifier_model_97.h5')\u001b[39;00m\n\u001b[0;32m     50\u001b[0m \n\u001b[0;32m     51\u001b[0m \u001b[39m# Zapis modelu (zawierającego etykiety)\u001b[39;00m\n",
      "File \u001b[1;32me:\\pycharmik\\fruit recognition\\.venv\\lib\\site-packages\\keras\\utils\\traceback_utils.py:70\u001b[0m, in \u001b[0;36mfilter_traceback.<locals>.error_handler\u001b[1;34m(*args, **kwargs)\u001b[0m\n\u001b[0;32m     67\u001b[0m     filtered_tb \u001b[39m=\u001b[39m _process_traceback_frames(e\u001b[39m.\u001b[39m__traceback__)\n\u001b[0;32m     68\u001b[0m     \u001b[39m# To get the full stack trace, call:\u001b[39;00m\n\u001b[0;32m     69\u001b[0m     \u001b[39m# `tf.debugging.disable_traceback_filtering()`\u001b[39;00m\n\u001b[1;32m---> 70\u001b[0m     \u001b[39mraise\u001b[39;00m e\u001b[39m.\u001b[39mwith_traceback(filtered_tb) \u001b[39mfrom\u001b[39;00m \u001b[39mNone\u001b[39;00m\n\u001b[0;32m     71\u001b[0m \u001b[39mfinally\u001b[39;00m:\n\u001b[0;32m     72\u001b[0m     \u001b[39mdel\u001b[39;00m filtered_tb\n",
      "File \u001b[1;32me:\\pycharmik\\fruit recognition\\.venv\\lib\\site-packages\\h5py\\_hl\\files.py:567\u001b[0m, in \u001b[0;36mFile.__init__\u001b[1;34m(self, name, mode, driver, libver, userblock_size, swmr, rdcc_nslots, rdcc_nbytes, rdcc_w0, track_order, fs_strategy, fs_persist, fs_threshold, fs_page_size, page_buf_size, min_meta_keep, min_raw_keep, locking, alignment_threshold, alignment_interval, meta_block_size, **kwds)\u001b[0m\n\u001b[0;32m    558\u001b[0m     fapl \u001b[39m=\u001b[39m make_fapl(driver, libver, rdcc_nslots, rdcc_nbytes, rdcc_w0,\n\u001b[0;32m    559\u001b[0m                      locking, page_buf_size, min_meta_keep, min_raw_keep,\n\u001b[0;32m    560\u001b[0m                      alignment_threshold\u001b[39m=\u001b[39malignment_threshold,\n\u001b[0;32m    561\u001b[0m                      alignment_interval\u001b[39m=\u001b[39malignment_interval,\n\u001b[0;32m    562\u001b[0m                      meta_block_size\u001b[39m=\u001b[39mmeta_block_size,\n\u001b[0;32m    563\u001b[0m                      \u001b[39m*\u001b[39m\u001b[39m*\u001b[39mkwds)\n\u001b[0;32m    564\u001b[0m     fcpl \u001b[39m=\u001b[39m make_fcpl(track_order\u001b[39m=\u001b[39mtrack_order, fs_strategy\u001b[39m=\u001b[39mfs_strategy,\n\u001b[0;32m    565\u001b[0m                      fs_persist\u001b[39m=\u001b[39mfs_persist, fs_threshold\u001b[39m=\u001b[39mfs_threshold,\n\u001b[0;32m    566\u001b[0m                      fs_page_size\u001b[39m=\u001b[39mfs_page_size)\n\u001b[1;32m--> 567\u001b[0m     fid \u001b[39m=\u001b[39m make_fid(name, mode, userblock_size, fapl, fcpl, swmr\u001b[39m=\u001b[39;49mswmr)\n\u001b[0;32m    569\u001b[0m \u001b[39mif\u001b[39;00m \u001b[39misinstance\u001b[39m(libver, \u001b[39mtuple\u001b[39m):\n\u001b[0;32m    570\u001b[0m     \u001b[39mself\u001b[39m\u001b[39m.\u001b[39m_libver \u001b[39m=\u001b[39m libver\n",
      "File \u001b[1;32me:\\pycharmik\\fruit recognition\\.venv\\lib\\site-packages\\h5py\\_hl\\files.py:237\u001b[0m, in \u001b[0;36mmake_fid\u001b[1;34m(name, mode, userblock_size, fapl, fcpl, swmr)\u001b[0m\n\u001b[0;32m    235\u001b[0m     fid \u001b[39m=\u001b[39m h5f\u001b[39m.\u001b[39mcreate(name, h5f\u001b[39m.\u001b[39mACC_EXCL, fapl\u001b[39m=\u001b[39mfapl, fcpl\u001b[39m=\u001b[39mfcpl)\n\u001b[0;32m    236\u001b[0m \u001b[39melif\u001b[39;00m mode \u001b[39m==\u001b[39m \u001b[39m'\u001b[39m\u001b[39mw\u001b[39m\u001b[39m'\u001b[39m:\n\u001b[1;32m--> 237\u001b[0m     fid \u001b[39m=\u001b[39m h5f\u001b[39m.\u001b[39;49mcreate(name, h5f\u001b[39m.\u001b[39;49mACC_TRUNC, fapl\u001b[39m=\u001b[39;49mfapl, fcpl\u001b[39m=\u001b[39;49mfcpl)\n\u001b[0;32m    238\u001b[0m \u001b[39melif\u001b[39;00m mode \u001b[39m==\u001b[39m \u001b[39m'\u001b[39m\u001b[39ma\u001b[39m\u001b[39m'\u001b[39m:\n\u001b[0;32m    239\u001b[0m     \u001b[39m# Open in append mode (read/write).\u001b[39;00m\n\u001b[0;32m    240\u001b[0m     \u001b[39m# If that fails, create a new file only if it won't clobber an\u001b[39;00m\n\u001b[0;32m    241\u001b[0m     \u001b[39m# existing one (ACC_EXCL)\u001b[39;00m\n\u001b[0;32m    242\u001b[0m     \u001b[39mtry\u001b[39;00m:\n",
      "File \u001b[1;32mh5py\\_objects.pyx:54\u001b[0m, in \u001b[0;36mh5py._objects.with_phil.wrapper\u001b[1;34m()\u001b[0m\n",
      "File \u001b[1;32mh5py\\_objects.pyx:55\u001b[0m, in \u001b[0;36mh5py._objects.with_phil.wrapper\u001b[1;34m()\u001b[0m\n",
      "File \u001b[1;32mh5py\\h5f.pyx:126\u001b[0m, in \u001b[0;36mh5py.h5f.create\u001b[1;34m()\u001b[0m\n",
      "\u001b[1;31mOSError\u001b[0m: Unable to create file (unable to truncate a file which is already open)"
     ]
    }
   ],
   "source": [
    " # add all labels to dataset\n",
    "fruit_labels = np.array([   \n",
    "    \"apple\",\n",
    "    \"banana\",\n",
    "    \"beetroot\",\n",
    "    \"cabbage\",\n",
    "    \"carrot\",\n",
    "    \"cauliflower\",\n",
    "    \"chilli pepper\",\n",
    "    \"corn\",\n",
    "    \"cucumber\",\n",
    "    \"eggplant\",\n",
    "    \"garlic\",\n",
    "    \"ginger\",\n",
    "    \"grapes\",\n",
    "    \"jalepeno\",\n",
    "    \"kiwi\",\n",
    "    \"lemon\",\n",
    "    \"lettuce\",\n",
    "    \"mango\",\n",
    "    \"onion\",\n",
    "    \"orange\",\n",
    "    \"pear\",\n",
    "    \"pesa\",\n",
    "    \"pepper\",\n",
    "    \"pineapple\",\n",
    "    \"pomegranate\",\n",
    "    \"potato\",\n",
    "    \"raddish\",\n",
    "    \"soy beans\",\n",
    "    \"spinach\",\n",
    "    \"sweetcorn\",\n",
    "    \"sweetpotato\",\n",
    "    \"tomato\",\n",
    "    \"turnip\",\n",
    "    \"watermelon\",\n",
    "    ])  \n",
    "\n",
    "# Konwersja etykiet na bajty (bytes)\n",
    "fruit_labels_bytes = np.array([label.encode('utf-8') for label in fruit_labels])\n",
    "\n",
    "# Zapis etykiet do pliku\n",
    "with h5py.File('../fruit recognition/fruit_classifier_model_96.h5', 'a') as file:\n",
    "    if 'labels' in file:\n",
    "        del file['labels']\n",
    "    file.create_dataset('labels', data=fruit_labels_bytes)\n",
    "    model.save('fruit_classifier_model_96.h5')\n",
    "# Załadowanie modelu\n",
    "#model = load_model('../fruit recognition/fruit_classifier_model_97.h5')\n",
    "\n",
    "# Zapis modelu (zawierającego etykiety)\n"
   ]
  },
  {
   "cell_type": "code",
   "execution_count": 93,
   "metadata": {},
   "outputs": [
    {
     "name": "stdout",
     "output_type": "stream",
     "text": [
      "Etykiety:\n",
      "apple\n",
      "banana\n",
      "beetroot\n",
      "cabbage\n",
      "carrot\n",
      "cauliflower\n",
      "chilli pepper\n",
      "corn\n",
      "cucumber\n",
      "eggplant\n",
      "garlic\n",
      "ginger\n",
      "grapes\n",
      "jalepeno\n",
      "kiwi\n",
      "lemon\n",
      "lettuce\n",
      "mango\n",
      "onion\n",
      "orange\n",
      "pear\n",
      "pesa\n",
      "pepper\n",
      "pineapple\n",
      "pomegranate\n",
      "potato\n",
      "raddish\n",
      "soy beans\n",
      "spinach\n",
      "sweetcorn\n",
      "sweetpotato\n",
      "tomato\n",
      "turnip\n",
      "watermelon\n",
      "34\n"
     ]
    }
   ],
   "source": [
    "# Odczyt etykiet z pliku\n",
    "with h5py.File('../fruit recognition/fruit_classifier_model_96.h5', 'r') as file:\n",
    "    if 'labels' in file:\n",
    "        labels_dataset = file['labels']\n",
    "        fruit_labels_bytes = np.array(labels_dataset)\n",
    "        fruit_labels = [label.decode('utf-8') for label in fruit_labels_bytes]\n",
    "        print(\"Etykiety:\")\n",
    "        for label in fruit_labels:\n",
    "            print(label)\n",
    "    else:\n",
    "        print(\"Nie znaleziono etykiet w pliku.\")\n",
    "    print(len(fruit_labels))"
   ]
  },
  {
   "attachments": {},
   "cell_type": "markdown",
   "metadata": {},
   "source": [
    "# Test on random image from url"
   ]
  },
  {
   "cell_type": "code",
   "execution_count": 97,
   "metadata": {},
   "outputs": [
    {
     "name": "stdout",
     "output_type": "stream",
     "text": [
      "Test set shape :  (1, 224, 224, 3)\n",
      "1st training image shape  (224, 224, 3)\n",
      "1/1 [==============================] - 0s 174ms/step\n",
      "XDDDDDDDDDD 34\n",
      "\n",
      "Predicted class:  b'banana'\n",
      "Top labels [('banana', 73.28), ('lemon', 20.77), ('orange', 5.53)]\n",
      "Predictions: ['apple: 0.0', 'banana: 0.699999988079071', 'beetroot: 0.0', 'cabbage: 0.0', 'carrot: 0.0', 'cauliflower: 0.0', 'chilli pepper: 0.0', 'corn: 0.0', 'cucumber: 0.0', 'eggplant: 0.0', 'garlic: 0.0', 'ginger: 0.0', 'grapes: 0.0', 'jalepeno: 0.0', 'kiwi: 0.0', 'lemon: 0.20000000298023224', 'lettuce: 0.0', 'mango: 0.0', 'onion: 0.0', 'orange: 0.10000000149011612', 'pear: 0.0', 'pesa: 0.0', 'pepper: 0.0', 'pineapple: 0.0', 'pomegranate: 0.0', 'potato: 0.0', 'raddish: 0.0', 'soy beans: 0.0', 'spinach: 0.0', 'sweetcorn: 0.0', 'sweetpotato: 0.0', 'tomato: 0.0', 'turnip: 0.0', 'watermelon: 0.0']\n"
     ]
    }
   ],
   "source": [
    "# Wczytanie modelu\n",
    "model_path = 'fruit_classifier_model_96.h5'\n",
    "model = load_model(model_path)\n",
    "\n",
    "\n",
    "# URL obrazka do klasyfikacji\n",
    "image_url = 'https://media.istockphoto.com/id/1291262112/photo/banana.jpg?s=170667a&w=0&k=20&c=BrgDCBrH3iCUHI0MXafUnkvz8lmDMelsZfKsXud1fr0=' # banana\n",
    "#image_url = 'https://goodfruitguide.co.uk/wp-content/uploads/Apple-Golden-Delicious-ZA-DSC_0023-cr-sq-300x300.jpg' # apple golden\n",
    "\n",
    "# Pobranie obrazka z podanego URL\n",
    "response = requests.get(image_url)\n",
    "img = Image.open(BytesIO(response.content))\n",
    "\n",
    "\n",
    "#img = load_img('../fruit recognition/images/kiwi/3.jpg')\n",
    "img = img.resize((224, 224))  # Dopasowanie rozmiaru obrazka do wymagań modelu\n",
    "img = img_to_array(img)\n",
    "img = np.expand_dims(img, axis=0)\n",
    "\n",
    "print('Test set shape : ',img.shape)\n",
    "print('1st training image shape ',img[0].shape)\n",
    "img = img.astype('float32')/255\n",
    "\n",
    "# Klasyfikacja obrazka\n",
    "predictions = model.predict(img)[0]\n",
    "\n",
    "with h5py.File(model_path, 'r') as file:\n",
    "    labels = file['labels'][:]\n",
    "    fruit_names = [label.decode() for label in labels]\n",
    "\n",
    "fruit_dict = {}\n",
    "# Dopasowanie etykiet do przewidywanych wyników\n",
    "for i, pred in enumerate(predictions):\n",
    "    label = fruit_names[i]\n",
    "    fruit_dict[label] = round(pred * 100, 2)\n",
    "# Zaokrąglenie wartości poniżej 0.001 do 0.00\n",
    "for label, value in fruit_dict.items():\n",
    "    if value <= 0.001:\n",
    "        fruit_dict[label] = 0.00\n",
    "# Sortowanie etykiet według prawdopodobieństwa w kolejności malejącej\n",
    "sorted_labels = sorted(fruit_dict.items(), key=lambda x: x[1], reverse=True)\n",
    "# Wybieranie trzech etykiet z największym prawdopodobieństwem\n",
    "top_labels = sorted_labels[:3]\n",
    "\n",
    "\n",
    "predicted_class_index = np.argmax(predictions)\n",
    "predicted_class = labels[predicted_class_index]\n",
    "rounded_predictions = [round(pred, 1) for pred in predictions]\n",
    "\n",
    "# Wyświetlenie wyników\n",
    "print(\"\\nPredicted class: \", predicted_class)\n",
    "print(\"Top labels\", top_labels)\n",
    "print(\"Predictions:\", [f\"{label}: {pred}\" for label, pred in zip(fruit_names, rounded_predictions)])\n",
    "\n"
   ]
  }
 ],
 "metadata": {
  "kernelspec": {
   "display_name": ".venv",
   "language": "python",
   "name": "python3"
  },
  "language_info": {
   "codemirror_mode": {
    "name": "ipython",
    "version": 3
   },
   "file_extension": ".py",
   "mimetype": "text/x-python",
   "name": "python",
   "nbconvert_exporter": "python",
   "pygments_lexer": "ipython3",
   "version": "3.10.6"
  },
  "orig_nbformat": 4
 },
 "nbformat": 4,
 "nbformat_minor": 2
}
